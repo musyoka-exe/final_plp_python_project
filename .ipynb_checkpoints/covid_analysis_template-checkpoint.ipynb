{
 "cells": [
  {
   "cell_type": "markdown",
   "id": "b61907f2",
   "metadata": {},
   "source": [
    "# COVID-19 Global Trends Analysis Template\n",
    "\n",
    "This notebook provides a scaffold for loading, cleaning, and visualizing global COVID-19 data. Fill in `selected_countries` and run each cell to generate the suggested charts."
   ]
  },
  {
   "cell_type": "code",
   "execution_count": null,
   "id": "ef81974d",
   "metadata": {},
   "outputs": [],
   "source": [
    "import pandas as pd\n",
    "import numpy as np\n",
    "import matplotlib.pyplot as plt\n",
    "import seaborn as sns\n",
    "import plotly.express as px\n",
    "\n",
    "sns.set_style('whitegrid')\n",
    "%matplotlib inline"
   ]
  },
  {
   "cell_type": "code",
   "execution_count": null,
   "id": "d96f7fde",
   "metadata": {},
   "outputs": [],
   "source": [
    "# Load data\n",
    "df = pd.read_csv('owid-covid-data.csv', parse_dates=['date'])\n",
    "df.head()"
   ]
  },
  {
   "cell_type": "code",
   "execution_count": null,
   "id": "e69e6a98",
   "metadata": {},
   "outputs": [],
   "source": [
    "# Define countries of interest\n",
    "selected_countries = ['USA', 'India', 'Kenya']  # replace with your list"
   ]
  },
  {
   "cell_type": "markdown",
   "id": "822c094a",
   "metadata": {},
   "source": [
    "## 1. Time-Series Trends"
   ]
  },
  {
   "cell_type": "markdown",
   "id": "40b5d31e",
   "metadata": {},
   "source": [
    "### 1.1 Total Cases & Total Deaths Over Time"
   ]
  },
  {
   "cell_type": "code",
   "execution_count": null,
   "id": "b4eb063a",
   "metadata": {},
   "outputs": [],
   "source": [
    "fig, ax1 = plt.subplots(figsize=(10, 6))\n",
    "ax2 = ax1.twinx()\n",
    "for country in selected_countries:\n",
    "    data = df[df['location'] == country]\n",
    "    ax1.plot(data['date'], data['total_cases'], label=f'{country} Cases')\n",
    "    ax2.plot(data['date'], data['total_deaths'], linestyle='--', label=f'{country} Deaths')\n",
    "\n",
    "ax1.set_xlabel('Date')\n",
    "ax1.set_ylabel('Total Cases')\n",
    "ax2.set_ylabel('Total Deaths')\n",
    "plt.title('Total Cases & Deaths Over Time')\n",
    "fig.legend(loc='upper left')\n",
    "plt.show()"
   ]
  },
  {
   "cell_type": "markdown",
   "id": "379a87ed",
   "metadata": {},
   "source": [
    "### 1.2 New Cases & New Deaths (7-day Smoothed)"
   ]
  },
  {
   "cell_type": "code",
   "execution_count": null,
   "id": "8e17b488",
   "metadata": {},
   "outputs": [],
   "source": [
    "plt.figure(figsize=(10, 6))\n",
    "for country in selected_countries:\n",
    "    data = df[df['location'] == country]\n",
    "    plt.plot(data['date'], data['new_cases_smoothed'], label=f'{country} New Cases (7-day MA)')\n",
    "    plt.plot(data['date'], data['new_deaths_smoothed'], linestyle='--', label=f'{country} New Deaths (7-day MA)')\n",
    "\n",
    "plt.xlabel('Date')\n",
    "plt.ylabel('Count (7-day MA)')\n",
    "plt.title('Smoothed New Cases & Deaths')\n",
    "plt.legend()\n",
    "plt.show()"
   ]
  },
  {
   "cell_type": "markdown",
   "id": "d07c305b",
   "metadata": {},
   "source": [
    "## 2. Per-Capita & Normalized Comparisons"
   ]
  },
  {
   "cell_type": "markdown",
   "id": "a8d7f6d0",
   "metadata": {},
   "source": [
    "### 2.1 Total Cases / Deaths per Million (Latest)"
   ]
  },
  {
   "cell_type": "code",
   "execution_count": null,
   "id": "a798d190",
   "metadata": {},
   "outputs": [],
   "source": [
    "latest = df[df['date'] == df['date'].max()]\n",
    "fig, ax = plt.subplots(figsize=(10, 6))\n",
    "x = np.arange(len(selected_countries))\n",
    "cases = latest[latest['location'].isin(selected_countries)]['total_cases_per_million'].values\n",
    "deaths = latest[latest['location'].isin(selected_countries)]['total_deaths_per_million'].values\n",
    "\n",
    "width = 0.35\n",
    "ax.bar(x - width/2, cases, width, label='Cases per Million')\n",
    "ax.bar(x + width/2, deaths, width, label='Deaths per Million')\n",
    "ax.set_xticks(x)\n",
    "ax.set_xticklabels(selected_countries)\n",
    "ax.set_ylabel('Per Million')\n",
    "plt.title('Total Cases & Deaths per Million')\n",
    "plt.legend()\n",
    "plt.show()"
   ]
  },
  {
   "cell_type": "markdown",
   "id": "80d325d3",
   "metadata": {},
   "source": [
    "### 2.2 Vaccination Progress (% Population)"
   ]
  },
  {
   "cell_type": "code",
   "execution_count": null,
   "id": "ee716fbb",
   "metadata": {},
   "outputs": [],
   "source": [
    "plt.figure(figsize=(10, 6))\n",
    "for country in selected_countries:\n",
    "    data = df[df['location'] == country]\n",
    "    plt.plot(data['date'], data['people_vaccinated_per_hundred'], label=f'{country} Partially Vaccinated')\n",
    "    plt.plot(data['date'], data['people_fully_vaccinated_per_hundred'], linestyle='--', label=f'{country} Fully Vaccinated')\n",
    "\n",
    "plt.xlabel('Date')\n",
    "plt.ylabel('% of Population')\n",
    "plt.title('Vaccination Progress')\n",
    "plt.legend()\n",
    "plt.show()"
   ]
  },
  {
   "cell_type": "markdown",
   "id": "a53888d6",
   "metadata": {},
   "source": [
    "## 3. Geospatial Visualizations"
   ]
  },
  {
   "cell_type": "markdown",
   "id": "3d117a57",
   "metadata": {},
   "source": [
    "### 3.1 World Choropleth: Total Cases per Million (Latest)"
   ]
  },
  {
   "cell_type": "code",
   "execution_count": null,
   "id": "353c1915",
   "metadata": {},
   "outputs": [],
   "source": [
    "latest = df[df['date'] == df['date'].max()]\n",
    "fig = px.choropleth(\n",
    "    latest,\n",
    "    locations='iso_code',\n",
    "    color='total_cases_per_million',\n",
    "    hover_name='location',\n",
    "    title='Total Cases per Million (Latest)'\n",
    ")\n",
    "fig.show()"
   ]
  },
  {
   "cell_type": "markdown",
   "id": "3a31d5b2",
   "metadata": {},
   "source": [
    "### 3.2 Stringency Index & Case Trajectory (Optional Bivariate Map)"
   ]
  },
  {
   "cell_type": "code",
   "execution_count": null,
   "id": "f76517dd",
   "metadata": {},
   "outputs": [],
   "source": [
    "# For an advanced bivariate map, consider merging stringency and case quartiles,\n",
    "# then use px.choropleth with a custom color scale.\n",
    "pass"
   ]
  },
  {
   "cell_type": "markdown",
   "id": "6a5ea2ef",
   "metadata": {},
   "source": [
    "## 4. Multivariate & Correlation Analysis"
   ]
  },
  {
   "cell_type": "markdown",
   "id": "f60de7d8",
   "metadata": {},
   "source": [
    "### 4.1 GDP per Capita vs. Vaccination Rate"
   ]
  },
  {
   "cell_type": "code",
   "execution_count": null,
   "id": "2c1f6ce1",
   "metadata": {},
   "outputs": [],
   "source": [
    "latest = df[df['date'] == df['date'].max()]\n",
    "plt.figure(figsize=(8, 6))\n",
    "plt.scatter(\n",
    "    latest['gdp_per_capita'],\n",
    "    latest['people_vaccinated_per_hundred'],\n",
    "    s=latest['population'] / 1e6,\n",
    "    alpha=0.7\n",
    ")\n",
    "plt.xscale('log')\n",
    "plt.xlabel('GDP per Capita (log)')\n",
    "plt.ylabel('People Vaccinated per Hundred')\n",
    "plt.title('GDP vs. Vaccination Rate')\n",
    "plt.show()"
   ]
  },
  {
   "cell_type": "markdown",
   "id": "241c02cc",
   "metadata": {},
   "source": [
    "### 4.2 Correlation Matrix of Key Metrics"
   ]
  },
  {
   "cell_type": "code",
   "execution_count": null,
   "id": "524cd8ac",
   "metadata": {},
   "outputs": [],
   "source": [
    "corr_cols = [\n",
    "    'total_cases_per_million', 'total_deaths_per_million',\n",
    "    'stringency_index', 'median_age',\n",
    "    'hospital_beds_per_thousand', 'human_development_index'\n",
    "]\n",
    "corr = df[corr_cols].corr()\n",
    "plt.figure(figsize=(8, 6))\n",
    "mask = np.triu(np.ones_like(corr, dtype=bool))\n",
    "sns.heatmap(corr, annot=True, mask=mask)\n",
    "plt.title('Correlation Matrix')\n",
    "plt.show()"
   ]
  },
  {
   "cell_type": "markdown",
   "id": "4d047818",
   "metadata": {},
   "source": [
    "## 5. Healthcare Capacity & Outcomes"
   ]
  },
  {
   "cell_type": "markdown",
   "id": "f85cba78",
   "metadata": {},
   "source": [
    "### 5.1 ICU & Hospital Patients per Million Over Time"
   ]
  },
  {
   "cell_type": "code",
   "execution_count": null,
   "id": "6f9d6624",
   "metadata": {},
   "outputs": [],
   "source": [
    "plt.figure(figsize=(10, 6))\n",
    "for country in selected_countries:\n",
    "    data = df[df['location'] == country]\n",
    "    plt.plot(data['date'], data['icu_patients_per_million'], label=f'{country} ICU Patients')\n",
    "    plt.plot(data['date'], data['hosp_patients_per_million'], linestyle='--', label=f'{country} Hospital Patients')\n",
    "\n",
    "plt.xlabel('Date')\n",
    "plt.ylabel('Patients per Million')\n",
    "plt.title('Healthcare Load Over Time')\n",
    "plt.legend()\n",
    "plt.show()"
   ]
  },
  {
   "cell_type": "markdown",
   "id": "7cb09fe5",
   "metadata": {},
   "source": [
    "### 5.2 Weekly ICU Admissions per Million"
   ]
  },
  {
   "cell_type": "code",
   "execution_count": null,
   "id": "2620fcd2",
   "metadata": {},
   "outputs": [],
   "source": [
    "plt.figure(figsize=(10, 6))\n",
    "for country in selected_countries:\n",
    "    data = df[df['location'] == country]\n",
    "    plt.bar(data['date'], data['weekly_icu_admissions_per_million'], alpha=0.5)\n",
    "plt.xlabel('Date')\n",
    "plt.ylabel('Weekly ICU Admissions per Million')\n",
    "plt.title('Weekly ICU Admissions')\n",
    "plt.show()"
   ]
  },
  {
   "cell_type": "markdown",
   "id": "cde2caf5",
   "metadata": {},
   "source": [
    "## 6. Testing & Positivity Analysis"
   ]
  },
  {
   "cell_type": "markdown",
   "id": "dfe41f9e",
   "metadata": {},
   "source": [
    "### 6.1 New Tests per Thousand vs. Positive Rate"
   ]
  },
  {
   "cell_type": "code",
   "execution_count": null,
   "id": "d75eb73d",
   "metadata": {},
   "outputs": [],
   "source": [
    "fig, ax1 = plt.subplots(figsize=(10, 6))\n",
    "ax2 = ax1.twinx()\n",
    "for country in selected_countries:\n",
    "    data = df[df['location'] == country]\n",
    "    ax1.plot(data['date'], data['new_tests_per_thousand'], label=f'{country} Tests/Thousand')\n",
    "    ax2.plot(data['date'], data['positive_rate'], linestyle='--', label=f'{country} Positive Rate')\n",
    "\n",
    "ax1.set_xlabel('Date')\n",
    "ax1.set_ylabel('Tests per Thousand')\n",
    "ax2.set_ylabel('Positive Rate')\n",
    "plt.title('Testing Volume & Positivity Rate')\n",
    "fig.legend(loc='upper left')\n",
    "plt.show()"
   ]
  },
  {
   "cell_type": "markdown",
   "id": "3cc3995b",
   "metadata": {},
   "source": [
    "## 7. (Optional) Interactive Dashboard\n",
    "\n",
    "Use Streamlit or Plotly Dash to make an interactive app where users can select countries and timeframes."
   ]
  }
 ],
 "metadata": {},
 "nbformat": 4,
 "nbformat_minor": 5
}
